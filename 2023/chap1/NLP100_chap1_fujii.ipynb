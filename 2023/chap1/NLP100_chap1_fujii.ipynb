{
 "cells": [
  {
   "attachments": {},
   "cell_type": "markdown",
   "metadata": {},
   "source": [
    "00"
   ]
  },
  {
   "cell_type": "code",
   "execution_count": 1,
   "metadata": {},
   "outputs": [
    {
     "name": "stdout",
     "output_type": "stream",
     "text": [
      "desserts\n"
     ]
    }
   ],
   "source": [
    "str0 = 'stressed'\n",
    "print(str0[::-1]) #スライスによる逆順"
   ]
  },
  {
   "attachments": {},
   "cell_type": "markdown",
   "metadata": {},
   "source": [
    "01"
   ]
  },
  {
   "cell_type": "code",
   "execution_count": 2,
   "metadata": {},
   "outputs": [
    {
     "name": "stdout",
     "output_type": "stream",
     "text": [
      "パトカー\n"
     ]
    }
   ],
   "source": [
    "str1 = 'パタトクカシーー'\n",
    "print(str1[::2]) #スライスによる偶数番目の文字の抽出"
   ]
  },
  {
   "attachments": {},
   "cell_type": "markdown",
   "metadata": {},
   "source": [
    "02"
   ]
  },
  {
   "cell_type": "code",
   "execution_count": 3,
   "metadata": {},
   "outputs": [
    {
     "name": "stdout",
     "output_type": "stream",
     "text": [
      "パタトクカシーー\n"
     ]
    }
   ],
   "source": [
    "str21 = 'パトカー'\n",
    "str22 = 'タクシー'\n",
    "str23 = ''\n",
    "for i in range(len(str21)):\n",
    "    str23 += str21[i] + str22[i]\n",
    "print(str23)"
   ]
  },
  {
   "attachments": {},
   "cell_type": "markdown",
   "metadata": {},
   "source": [
    "03"
   ]
  },
  {
   "cell_type": "code",
   "execution_count": 4,
   "metadata": {},
   "outputs": [
    {
     "name": "stdout",
     "output_type": "stream",
     "text": [
      "[3, 1, 4, 1, 5, 9, 2, 6, 5, 3, 5, 8, 9, 7, 9]\n"
     ]
    }
   ],
   "source": [
    "str3 = 'Now I need a drink, alcoholic of course, after the heavy lectures involving quantum mechanics.'\n",
    "str3 = str3.replace(',', '')\n",
    "str3 = str3.replace('.', '')\n",
    "str3 = str3.split() #空白で区切る(リスト)\n",
    "for i in range(len(str3)):\n",
    "    str3[i] = len(str3[i])\n",
    "print(str3)"
   ]
  },
  {
   "attachments": {},
   "cell_type": "markdown",
   "metadata": {},
   "source": [
    "04"
   ]
  },
  {
   "cell_type": "code",
   "execution_count": 5,
   "metadata": {},
   "outputs": [
    {
     "name": "stdout",
     "output_type": "stream",
     "text": [
      "{'H': 1, 'He': 2, 'Li': 3, 'Be': 4, 'B': 5, 'C': 6, 'N': 7, 'O': 8, 'F': 9, 'Ne': 10, 'Na': 11, 'Mi': 12, 'Al': 13, 'Si': 14, 'P': 15, 'S': 16, 'Cl': 17, 'Ar': 18, 'K': 19, 'Ca': 20}\n"
     ]
    }
   ],
   "source": [
    "str4 = 'Hi He Lied Because Boron Could Not Oxidize Fluorine. New Nations Might Also Sign Peace Security Clause. Arthur King Can.'\n",
    "str4 = str4.replace(',', '')\n",
    "str4 = str4.replace('.', '')\n",
    "str4 = str4.split()\n",
    "dic = {} #辞書に格納\n",
    "for i in range(len(str4)):\n",
    "    if i in [0, 4, 5, 6, 7, 8, 14, 15, 18]:\n",
    "        dic[str4[i][0]] = i+1\n",
    "    else:\n",
    "        dic[str4[i][:2]] = i+1\n",
    "print(dic)"
   ]
  },
  {
   "attachments": {},
   "cell_type": "markdown",
   "metadata": {},
   "source": [
    "05"
   ]
  },
  {
   "cell_type": "code",
   "execution_count": 6,
   "metadata": {},
   "outputs": [
    {
     "name": "stdout",
     "output_type": "stream",
     "text": [
      "['I ', ' a', 'am', 'm ', ' a', 'an', 'n ', ' N', 'NL', 'LP', 'Pe', 'er']\n",
      "[['I', 'am'], ['am', 'an'], ['an', 'NLPer']]\n"
     ]
    }
   ],
   "source": [
    "def n_grams(n, str51):\n",
    "    list = []\n",
    "    for i in range(len(str51) - n + 1):\n",
    "        list.append(str51[i:i+n])\n",
    "    return list\n",
    "\n",
    "str51 = 'I am an NLPer'\n",
    "print(n_grams(2, str51)) #文字bi-gram\n",
    "print(n_grams(2, str51.split())) #単語bi-gram"
   ]
  },
  {
   "cell_type": "code",
   "execution_count": 7,
   "metadata": {},
   "outputs": [
    {
     "data": {
      "text/plain": [
       "\"\\nlist = []\\nstr51 = 'I am an NLPer'\\nlist.append(str51[0:2])\\nlist.append(str51[1:3])\\nlist\\n\""
      ]
     },
     "execution_count": 7,
     "metadata": {},
     "output_type": "execute_result"
    }
   ],
   "source": [
    "'''\n",
    "list = []\n",
    "str51 = 'I am an NLPer'\n",
    "list.append(str51[0:2])\n",
    "list.append(str51[1:3])\n",
    "list\n",
    "'''"
   ]
  },
  {
   "attachments": {},
   "cell_type": "markdown",
   "metadata": {},
   "source": [
    "06"
   ]
  },
  {
   "cell_type": "code",
   "execution_count": 8,
   "metadata": {},
   "outputs": [
    {
     "name": "stdout",
     "output_type": "stream",
     "text": [
      "{'ar', 'is', 'gr', 'pa', 'ap', 'di', 'ra', 'se', 'ph', 'ad', 'ag'}\n",
      "{'pa', 'ap', 'ra', 'ar'}\n",
      "{'se', 'is', 'ad', 'di'}\n",
      "{'ph', 'ag', 'gr'}\n",
      "True\n",
      "False\n"
     ]
    }
   ],
   "source": [
    "def n_grams(n, str6):\n",
    "    list = []\n",
    "    for i in range(len(str6) - n + 1):\n",
    "        list.append(str6[i:i+n])\n",
    "    return list\n",
    "\n",
    "str61 = 'paraparaparadise'\n",
    "str62 = 'paragraph'\n",
    "\n",
    "X = set(n_grams(2, str61))\n",
    "Y = set(n_grams(2, str62))\n",
    "\n",
    "\"\"\"\n",
    "print(X)\n",
    "print(Y)\n",
    "\"\"\"\n",
    "print(X | Y) #和集合\n",
    "print(X & Y) #積集合\n",
    "print(X - Y) #差集合\n",
    "print(Y - X)\n",
    "\n",
    "print('se' in X)\n",
    "print('se' in Y)"
   ]
  },
  {
   "attachments": {},
   "cell_type": "markdown",
   "metadata": {},
   "source": [
    "07"
   ]
  },
  {
   "cell_type": "code",
   "execution_count": 9,
   "metadata": {},
   "outputs": [
    {
     "name": "stdout",
     "output_type": "stream",
     "text": [
      "12時の気温は22.4\n"
     ]
    }
   ],
   "source": [
    "def func(x,y,z):\n",
    "    return str(x) + '時の' + str(y) + 'は' + str(z)\n",
    "\n",
    "x = 12\n",
    "y = '気温'\n",
    "z = 22.4\n",
    "print(func(x,y,z))"
   ]
  },
  {
   "attachments": {},
   "cell_type": "markdown",
   "metadata": {},
   "source": [
    "08"
   ]
  },
  {
   "cell_type": "code",
   "execution_count": 10,
   "metadata": {},
   "outputs": [
    {
     "name": "stdout",
     "output_type": "stream",
     "text": [
      "Ssv hvLLh hEzhsvooh yb gsE SvAhslRv.\n",
      "She seLLs sEashells by thE SeAshoRe.\n"
     ]
    }
   ],
   "source": [
    "def cipher(str8):\n",
    "    list8 = []\n",
    "    for s8 in str8:\n",
    "        if s8.islower():\n",
    "            list8.append(chr(219 - ord(s8)))\n",
    "        else:\n",
    "            list8.append(s8)\n",
    "    return ''.join(list8)\n",
    "\n",
    "str8 = 'She seLLs sEashells by thE SeAshoRe.'\n",
    "\n",
    "cip = cipher(str8)\n",
    "\n",
    "print(cipher(str8))\n",
    "print(cipher(cip))"
   ]
  },
  {
   "attachments": {},
   "cell_type": "markdown",
   "metadata": {},
   "source": [
    "09"
   ]
  },
  {
   "cell_type": "code",
   "execution_count": 11,
   "metadata": {},
   "outputs": [
    {
     "name": "stdout",
     "output_type": "stream",
     "text": [
      "I cuo’dnlt bveliee that I cuold alutalcy unrtseadnd what I was rdienag : the pneehnomal pweor of the hmaun mind .\n"
     ]
    }
   ],
   "source": [
    "import random\n",
    "\n",
    "def typoglycemia(str9):\n",
    "    list9 = []\n",
    "    for s9 in str9.split():\n",
    "        if len(s9) > 4:\n",
    "            s9 = s9[0] + ''.join(random.sample(s9[1:-1], len(s9[1:-1]))) + s9[-1]\n",
    "        list9.append(s9)\n",
    "    return ' '.join(list9)\n",
    "\n",
    "str9 = 'I couldn’t believe that I could actually understand what I was reading : the phenomenal power of the human mind .'\n",
    "\n",
    "print(typoglycemia(str9))"
   ]
  }
 ],
 "metadata": {
  "kernelspec": {
   "display_name": "Python 3",
   "language": "python",
   "name": "python3"
  },
  "language_info": {
   "codemirror_mode": {
    "name": "ipython",
    "version": 3
   },
   "file_extension": ".py",
   "mimetype": "text/x-python",
   "name": "python",
   "nbconvert_exporter": "python",
   "pygments_lexer": "ipython3",
   "version": "3.11.3"
  },
  "orig_nbformat": 4
 },
 "nbformat": 4,
 "nbformat_minor": 2
}
