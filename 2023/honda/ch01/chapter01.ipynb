{
  "nbformat": 4,
  "nbformat_minor": 0,
  "metadata": {
    "colab": {
      "provenance": []
    },
    "kernelspec": {
      "name": "python3",
      "display_name": "Python 3"
    },
    "language_info": {
      "name": "python"
    }
  },
  "cells": [
    {
      "cell_type": "markdown",
      "source": [
        "### 00. 文字列の逆順\n",
        "文字列''stressed''の文字を逆に（末尾から先頭に向かって）並べた文字列を得よ"
      ],
      "metadata": {
        "id": "Kv2g4uCvVn_g"
      }
    },
    {
      "cell_type": "code",
      "source": [
        "\"stressed\"[::-1] # slice"
      ],
      "metadata": {
        "colab": {
          "base_uri": "https://localhost:8080/",
          "height": 35
        },
        "id": "EExGBe27VsOb",
        "outputId": "4b4162db-015e-4582-e13c-b55defd730f7"
      },
      "execution_count": null,
      "outputs": [
        {
          "output_type": "execute_result",
          "data": {
            "text/plain": [
              "'desserts'"
            ],
            "application/vnd.google.colaboratory.intrinsic+json": {
              "type": "string"
            }
          },
          "metadata": {},
          "execution_count": 22
        }
      ]
    },
    {
      "cell_type": "markdown",
      "source": [
        "### 01. 「パタトクカシーー」\n",
        "「パタトクカシーー」という文字列の1,3,5,7文字目を取り出して連結した文字列を得よ"
      ],
      "metadata": {
        "id": "JqvPYqJeWVQ4"
      }
    },
    {
      "cell_type": "code",
      "source": [
        "\"パタトクカシーー\"[::2] # extract odd characters"
      ],
      "metadata": {
        "colab": {
          "base_uri": "https://localhost:8080/",
          "height": 35
        },
        "id": "Raj9WndnWQRs",
        "outputId": "c66a1af6-e2f6-418e-ecae-2dc1176c25ad"
      },
      "execution_count": null,
      "outputs": [
        {
          "output_type": "execute_result",
          "data": {
            "text/plain": [
              "'パトカー'"
            ],
            "application/vnd.google.colaboratory.intrinsic+json": {
              "type": "string"
            }
          },
          "metadata": {},
          "execution_count": 23
        }
      ]
    },
    {
      "cell_type": "markdown",
      "source": [
        "### 02. 「パトカー」＋「タクシー」＝「パタトクカシーー」\n",
        "「パトカー」＋「タクシー」の文字を先頭から交互に連結して文字列「パタトクカシーー」を得よ．"
      ],
      "metadata": {
        "id": "XQNTBKZ9Y_UC"
      }
    },
    {
      "cell_type": "code",
      "source": [
        "string_a = \"パトカー\"\n",
        "string_b = \"タクシー\"\n",
        "string_c = \"\"\n",
        "\n",
        "for num in range(len(string_a)): # len(string_a) = len(string_b)\n",
        "  string_c += string_a[num]\n",
        "  string_c += string_b[num]\n",
        "\n",
        "string_c"
      ],
      "metadata": {
        "colab": {
          "base_uri": "https://localhost:8080/",
          "height": 35
        },
        "id": "dnNMqnROZDI2",
        "outputId": "4c2888b7-ba26-43e2-c63d-a7b8c2867704"
      },
      "execution_count": null,
      "outputs": [
        {
          "output_type": "execute_result",
          "data": {
            "text/plain": [
              "'パタトクカシーー'"
            ],
            "application/vnd.google.colaboratory.intrinsic+json": {
              "type": "string"
            }
          },
          "metadata": {},
          "execution_count": 24
        }
      ]
    },
    {
      "cell_type": "markdown",
      "source": [
        "### 03. 円周率\n",
        "“Now I need a drink, alcoholic of course, after the heavy lectures involving quantum mechanics.”という文を単語に分解し，各単語の（アルファベットの）文字数を先頭から出現順に並べたリストを作成せよ．\n",
        "\n"
      ],
      "metadata": {
        "id": "R0jhq6fnXuCk"
      }
    },
    {
      "cell_type": "code",
      "source": [
        "sentence = \"Now I need a drink, alcoholic of course, after the heavy lectures involving quantum mechanics.\"\n",
        "sentence = sentence.strip('.') # delete period\n",
        "sentence = sentence.replace(',', '')  # delete comma\n",
        "words_list = sentence.split(' ') # lists of the words\n",
        "\n",
        "words_num_list = []\n",
        "for word in words_list:\n",
        "  words_num_list.append(len(word))\n",
        "\n",
        "words_num_list            "
      ],
      "metadata": {
        "colab": {
          "base_uri": "https://localhost:8080/"
        },
        "id": "n0Czubn3XUMA",
        "outputId": "8f5418e0-837e-4ea0-f86c-23eea2b66078"
      },
      "execution_count": null,
      "outputs": [
        {
          "output_type": "execute_result",
          "data": {
            "text/plain": [
              "[3, 1, 4, 1, 5, 9, 2, 6, 5, 3, 5, 8, 9, 7, 9]"
            ]
          },
          "metadata": {},
          "execution_count": 25
        }
      ]
    },
    {
      "cell_type": "code",
      "source": [
        "# cf., sapply(strsplit(sentence,\" .\"),stri_length) (Rのコード、誤りがあるかも)\n",
        "\n",
        "sentence = \"Now I need a drink, alcoholic of course, after the heavy lectures involving quantum mechanics.\"\n",
        "sentence = sentence.strip('.') # delete period\n",
        "sentence = sentence.replace(',', '')  # delete comma\n",
        "words_list = sentence.split(' ') # lists of the words\n",
        "\n",
        "words_num_list = [len(word) for word in words_list] # 内包表記\n",
        "\n",
        "words_num_list "
      ],
      "metadata": {
        "colab": {
          "base_uri": "https://localhost:8080/"
        },
        "id": "U983TeRds-T_",
        "outputId": "bfe91607-33c2-4ed2-ae51-7353285ddee8"
      },
      "execution_count": null,
      "outputs": [
        {
          "output_type": "execute_result",
          "data": {
            "text/plain": [
              "[3, 1, 4, 1, 5, 9, 2, 6, 5, 3, 5, 8, 9, 7, 9]"
            ]
          },
          "metadata": {},
          "execution_count": 1
        }
      ]
    },
    {
      "cell_type": "markdown",
      "source": [
        "### 04. 元素記号\n",
        "“Hi He Lied Because Boron Could Not Oxidize Fluorine. New Nations Might Also Sign Peace Security Clause. Arthur King Can.”という文を単語に分解し，1, 5, 6, 7, 8, 9, 15, 16, 19番目の単語は先頭の1文字，それ以外の単語は先頭の2文字を取り出し，取り出した文字列から単語の位置（先頭から何番目の単語か）への連想配列（辞書型もしくはマップ型）を作成せよ．"
      ],
      "metadata": {
        "id": "4qXa5H7vapaE"
      }
    },
    {
      "cell_type": "code",
      "source": [
        "sentence = \"Hi He Lied Because Boron Could Not Oxidize Fluorine. New Nations Might Also Sign Peace Security Clause. Arthur King Can.\"\n",
        "sentence = sentence.strip('.') # delete period\n",
        "# sentence = sentence.replace(',', '')  # delete comma\n",
        "words_list = sentence.split(' ') # lists of the words\n",
        "\n",
        "# len(words_list) # 20 words\n",
        "\n",
        "dic = {}\n",
        "for num in range(len(words_list)):\n",
        "  # if num+1 == (1 or 5 or 6 or 7 or 8 or 9 or 15 or 16 or 19):\n",
        "  if num+1 == 1 or num+1 == 5 or num+1 == 6 or num+1 == 7 or num+1 == 8 or num+1 == 9 or num+1 == 15 or num+1 == 16 or num+1 == 19:\n",
        "    # setを利用する\n",
        "    dic[num+1] = words_list[num][0:1]\n",
        "  else:\n",
        "    dic[num+1] = words_list[num][0:2]\n",
        "\n",
        "dic"
      ],
      "metadata": {
        "colab": {
          "base_uri": "https://localhost:8080/"
        },
        "id": "8ug7_AkTX8m0",
        "outputId": "69b63984-98fe-48f9-d572-5d0a302f27da"
      },
      "execution_count": null,
      "outputs": [
        {
          "output_type": "execute_result",
          "data": {
            "text/plain": [
              "{1: 'H',\n",
              " 2: 'He',\n",
              " 3: 'Li',\n",
              " 4: 'Be',\n",
              " 5: 'B',\n",
              " 6: 'C',\n",
              " 7: 'N',\n",
              " 8: 'O',\n",
              " 9: 'F',\n",
              " 10: 'Ne',\n",
              " 11: 'Na',\n",
              " 12: 'Mi',\n",
              " 13: 'Al',\n",
              " 14: 'Si',\n",
              " 15: 'P',\n",
              " 16: 'S',\n",
              " 17: 'Cl',\n",
              " 18: 'Ar',\n",
              " 19: 'K',\n",
              " 20: 'Ca'}"
            ]
          },
          "metadata": {},
          "execution_count": 26
        }
      ]
    },
    {
      "cell_type": "code",
      "source": [
        "# 上記のコードはkeyとvalueが逆\n",
        "\n",
        "sentence = \"Hi He Lied Because Boron Could Not Oxidize Fluorine. New Nations Might Also Sign Peace Security Clause. Arthur King Can.\"\n",
        "sentence = sentence.strip('.') # delete period\n",
        "# sentence = sentence.replace(',', '')  # delete comma\n",
        "words_list = sentence.split(' ') # lists of the words\n",
        "\n",
        "# len(words_list) # 20 words\n",
        "\n",
        "dic = {}\n",
        "one = {1,5,6,7,8,9,15,16,19} # setを利用する\n",
        "for num in range(len(words_list)):\n",
        "  if num+1 in one:\n",
        "    dic[words_list[num][:1]] = num+1\n",
        "  else:\n",
        "    dic[words_list[num][:2]] = num+1\n",
        "\n",
        "dic"
      ],
      "metadata": {
        "colab": {
          "base_uri": "https://localhost:8080/"
        },
        "id": "wM2r-PSktnLj",
        "outputId": "5a731410-f515-4bb6-8954-70ca993266d8"
      },
      "execution_count": null,
      "outputs": [
        {
          "output_type": "execute_result",
          "data": {
            "text/plain": [
              "{'H': 1,\n",
              " 'He': 2,\n",
              " 'Li': 3,\n",
              " 'Be': 4,\n",
              " 'B': 5,\n",
              " 'C': 6,\n",
              " 'N': 7,\n",
              " 'O': 8,\n",
              " 'F': 9,\n",
              " 'Ne': 10,\n",
              " 'Na': 11,\n",
              " 'Mi': 12,\n",
              " 'Al': 13,\n",
              " 'Si': 14,\n",
              " 'P': 15,\n",
              " 'S': 16,\n",
              " 'Cl': 17,\n",
              " 'Ar': 18,\n",
              " 'K': 19,\n",
              " 'Ca': 20}"
            ]
          },
          "metadata": {},
          "execution_count": 2
        }
      ]
    },
    {
      "cell_type": "markdown",
      "source": [
        "### 05. n-gram\n",
        "与えられたシーケンス（文字列やリストなど）からn-gramを作る関数を作成せよ．この関数を用い，”I am an NLPer”という文から単語bi-gram，文字bi-gramを得よ．"
      ],
      "metadata": {
        "id": "FreFhl1TdPcA"
      }
    },
    {
      "cell_type": "code",
      "source": [
        "def n_gram_w(n, sequence):\n",
        "  sequence = sequence.split(\" \")\n",
        "  n_gram = []\n",
        "  for i in range(len(sequence)):\n",
        "    if len(sequence[i:i+n]) < n:\n",
        "      pass\n",
        "    else:\n",
        "      n_gram.append(sequence[i:i+n])\n",
        "  return n_gram"
      ],
      "metadata": {
        "id": "MYJQIE_ib7wT"
      },
      "execution_count": null,
      "outputs": []
    },
    {
      "cell_type": "code",
      "source": [
        "def n_gram_l(n, sequence): \n",
        "  #sequence = sequence.replace(\" \", \"\") #without space\n",
        "  n_gram = []\n",
        "  for i in range(len(sequence)):\n",
        "    if len(sequence[i:i+n]) < n:\n",
        "      pass\n",
        "    else:\n",
        "      n_gram.append(sequence[i:i+n])\n",
        "  return n_gram"
      ],
      "metadata": {
        "id": "bA7k2TyGC_Yj"
      },
      "execution_count": null,
      "outputs": []
    },
    {
      "cell_type": "code",
      "source": [
        "# cf., Rではngramrr(sentence,char=T,ngmin=2,ngmax=2)\n",
        "\n",
        "# 別解\n",
        "def n_gram_l_1(n, sequence): \n",
        "  #sequence = sequence.replace(\" \", \"\") #without space\n",
        "  n_gram = []\n",
        "  for i in range(len(sequence)):\n",
        "    if len(sequence[i:i+n]) - n == 0: \n",
        "      n_gram.append(sequence[i:i+n])\n",
        "  return n_gram"
      ],
      "metadata": {
        "id": "3pFZJEtSuUUF"
      },
      "execution_count": null,
      "outputs": []
    },
    {
      "cell_type": "code",
      "source": [
        "n_gram_l_1(2, \"I am an NLPer\") # letter bi-gram"
      ],
      "metadata": {
        "colab": {
          "base_uri": "https://localhost:8080/"
        },
        "id": "zNzuvIPzuk5A",
        "outputId": "1374410a-25ad-42f5-ab2b-03baa28ff881"
      },
      "execution_count": null,
      "outputs": [
        {
          "output_type": "execute_result",
          "data": {
            "text/plain": [
              "['I ', ' a', 'am', 'm ', ' a', 'an', 'n ', ' N', 'NL', 'LP', 'Pe', 'er']"
            ]
          },
          "metadata": {},
          "execution_count": 4
        }
      ]
    },
    {
      "cell_type": "code",
      "source": [
        "n_gram_l(2, \"I am an NLPer\") # letter bi-gram\n"
      ],
      "metadata": {
        "colab": {
          "base_uri": "https://localhost:8080/"
        },
        "id": "Q3E5hRLiGjmB",
        "outputId": "58346c37-7387-4cb2-9ca8-56adc660616c"
      },
      "execution_count": null,
      "outputs": [
        {
          "output_type": "execute_result",
          "data": {
            "text/plain": [
              "['I ', ' a', 'am', 'm ', ' a', 'an', 'n ', ' N', 'NL', 'LP', 'Pe', 'er']"
            ]
          },
          "metadata": {},
          "execution_count": 9
        }
      ]
    },
    {
      "cell_type": "code",
      "source": [
        "n_gram_w(2, \"I am an NLPer\") # word bi-gram"
      ],
      "metadata": {
        "colab": {
          "base_uri": "https://localhost:8080/"
        },
        "id": "3cGqeDpyHwRw",
        "outputId": "2e7efdf5-98a2-441a-99a5-ed14f365fd9c"
      },
      "execution_count": null,
      "outputs": [
        {
          "output_type": "execute_result",
          "data": {
            "text/plain": [
              "[['I', 'am'], ['am', 'an'], ['an', 'NLPer']]"
            ]
          },
          "metadata": {},
          "execution_count": 10
        }
      ]
    },
    {
      "cell_type": "markdown",
      "source": [
        "### 06. 集合\n",
        "“paraparaparadise”と”paragraph”に含まれる文字bi-gramの集合を，それぞれ, XとYとして求め，XとYの和集合，積集合，差集合を求めよ．さらに，’se’というbi-gramがXおよびYに含まれるかどうかを調べよ．\n",
        "\n"
      ],
      "metadata": {
        "id": "W7GxoYUteGrT"
      }
    },
    {
      "cell_type": "code",
      "source": [
        "X = n_gram_l(2, \"paraparaparadise\")\n",
        "Y = n_gram_l(2, \"paragraph\")\n",
        "print(X)\n",
        "print(Y)"
      ],
      "metadata": {
        "colab": {
          "base_uri": "https://localhost:8080/"
        },
        "id": "enmFHa4zKgYP",
        "outputId": "43a2e9eb-ff16-4bc8-80e4-bb7ce996f27f"
      },
      "execution_count": null,
      "outputs": [
        {
          "output_type": "stream",
          "name": "stdout",
          "text": [
            "['pa', 'ar', 'ra', 'ap', 'pa', 'ar', 'ra', 'ap', 'pa', 'ar', 'ra', 'ad', 'di', 'is', 'se']\n",
            "['pa', 'ar', 'ra', 'ag', 'gr', 'ra', 'ap', 'ph']\n"
          ]
        }
      ]
    },
    {
      "cell_type": "code",
      "source": [
        "X = set(X)\n",
        "Y = set(Y)\n",
        "\n",
        "print(X | Y) # union union = X.union(Y)\n",
        "print(X & Y) # intersection intersect = X.intersection(Y)\n",
        "print(X-Y) # set difference diff = X.difference(Y)\n",
        "print(Y-X) # set difference\n",
        "print(\"se\" in X)\n",
        "print(\"se\" in Y)"
      ],
      "metadata": {
        "colab": {
          "base_uri": "https://localhost:8080/"
        },
        "id": "PiNPdMBDLOcK",
        "outputId": "a032e831-d063-4b7c-9b39-20fff16727ea"
      },
      "execution_count": null,
      "outputs": [
        {
          "output_type": "stream",
          "name": "stdout",
          "text": [
            "{'di', 'ag', 'is', 'ap', 'ra', 'gr', 'ph', 'ar', 'pa', 'ad', 'se'}\n",
            "{'pa', 'ap', 'ra', 'ar'}\n",
            "{'is', 'ad', 'di', 'se'}\n",
            "{'ph', 'gr', 'ag'}\n",
            "True\n",
            "False\n"
          ]
        }
      ]
    },
    {
      "cell_type": "markdown",
      "source": [
        "### 07. テンプレートによる文生成\n",
        "引数x, y, zを受け取り「x時のyはz」という文字列を返す関数を実装せよ．さらに，x=12, y=”気温”, z=22.4として，実行結果を確認せよ．\n",
        "\n"
      ],
      "metadata": {
        "id": "C8ITOnMHeGGV"
      }
    },
    {
      "cell_type": "code",
      "source": [
        "def template(x, y, z):\n",
        "  return \"{}時の{}は{}\".format(x, y, z)"
      ],
      "metadata": {
        "id": "dOct3g4SOMuh"
      },
      "execution_count": null,
      "outputs": []
    },
    {
      "cell_type": "code",
      "source": [
        "def template_1(x, y, z):\n",
        "  return f\"{y} is {z} at {x}\""
      ],
      "metadata": {
        "id": "OyWXY6INu_NW"
      },
      "execution_count": null,
      "outputs": []
    },
    {
      "cell_type": "code",
      "source": [
        "template(12, \"気温\", 22.4)"
      ],
      "metadata": {
        "colab": {
          "base_uri": "https://localhost:8080/",
          "height": 35
        },
        "id": "fQwf2JTsPLiu",
        "outputId": "4a3b4aa3-b202-4930-aa56-fac2cd6768f0"
      },
      "execution_count": null,
      "outputs": [
        {
          "output_type": "execute_result",
          "data": {
            "text/plain": [
              "'12時の気温は22.4'"
            ],
            "application/vnd.google.colaboratory.intrinsic+json": {
              "type": "string"
            }
          },
          "metadata": {},
          "execution_count": 16
        }
      ]
    },
    {
      "cell_type": "code",
      "source": [
        "template_1(12, \"temperature\", 22.4)"
      ],
      "metadata": {
        "colab": {
          "base_uri": "https://localhost:8080/",
          "height": 35
        },
        "id": "Vx5005WDvJBe",
        "outputId": "9e07d41d-8653-4971-d551-1035f7973edf"
      },
      "execution_count": null,
      "outputs": [
        {
          "output_type": "execute_result",
          "data": {
            "text/plain": [
              "'temperature is 22.4 at 12'"
            ],
            "application/vnd.google.colaboratory.intrinsic+json": {
              "type": "string"
            }
          },
          "metadata": {},
          "execution_count": 7
        }
      ]
    },
    {
      "cell_type": "markdown",
      "source": [
        "### 08. 暗号文\n",
        "与えられた文字列の各文字を，以下の仕様で変換する関数cipherを実装せよ．\n",
        "* 英小文字ならば(219 - 文字コード)の文字に置換\n",
        "* その他の文字はそのまま出力\n",
        "\n",
        "この関数を用い，英語のメッセージを暗号化・復号化せよ．\n",
        "\n"
      ],
      "metadata": {
        "id": "OT1wTvPNPUal"
      }
    },
    {
      "cell_type": "code",
      "source": [
        "def cipher(strings):\n",
        "  message = \"\"\n",
        "  for i in strings:\n",
        "    if 97 <= ord(i) <= 122:\n",
        "      message += chr(219-ord(i))\n",
        "    else:\n",
        "      message += i\n",
        "  return message"
      ],
      "metadata": {
        "id": "E-ESaIXKPRIn"
      },
      "execution_count": null,
      "outputs": []
    },
    {
      "cell_type": "code",
      "source": [
        "cipher(\"I am an NLPer\")"
      ],
      "metadata": {
        "colab": {
          "base_uri": "https://localhost:8080/",
          "height": 35
        },
        "id": "ktf7ZCPnYRR-",
        "outputId": "2b1c6799-55ee-4697-cf66-2c7ded201185"
      },
      "execution_count": null,
      "outputs": [
        {
          "output_type": "execute_result",
          "data": {
            "text/plain": [
              "'I zn zm NLPvi'"
            ],
            "application/vnd.google.colaboratory.intrinsic+json": {
              "type": "string"
            }
          },
          "metadata": {},
          "execution_count": 18
        }
      ]
    },
    {
      "cell_type": "code",
      "source": [
        "cipher(cipher(\"I am an NLPer\"))"
      ],
      "metadata": {
        "colab": {
          "base_uri": "https://localhost:8080/",
          "height": 35
        },
        "id": "Nf3lWGJqSvFO",
        "outputId": "1c1fe0e4-7161-4eeb-ccf9-e1b99d6f99fc"
      },
      "execution_count": null,
      "outputs": [
        {
          "output_type": "execute_result",
          "data": {
            "text/plain": [
              "'I am an NLPer'"
            ],
            "application/vnd.google.colaboratory.intrinsic+json": {
              "type": "string"
            }
          },
          "metadata": {},
          "execution_count": 19
        }
      ]
    },
    {
      "cell_type": "markdown",
      "source": [
        "### 09. Typoglycemia\n",
        "スペースで区切られた単語列に対して，各単語の先頭と末尾の文字は残し，それ以外の文字の順序をランダムに並び替えるプログラムを作成せよ．ただし，長さが４以下の単語は並び替えないこととする．適当な英語の文（例えば”I couldn’t believe that I could actually understand what I was reading : the phenomenal power of the human mind .”）を与え，その実行結果を確認せよ．"
      ],
      "metadata": {
        "id": "Ae8mGf5mTPKz"
      }
    },
    {
      "cell_type": "code",
      "source": [
        "import random\n",
        "\n",
        "def sorting(sequence):\n",
        "  sequence = sequence.split(\" \")\n",
        "  answer = []\n",
        "  for word in sequence:\n",
        "    if len(word) <= 4:\n",
        "      answer.append(word)\n",
        "    else:\n",
        "      random.seed(0) # 乱数シードを固定\n",
        "      middle = random.sample(word[1:len(word)-1], len(word[1:len(word)-1]))\n",
        "      answer.append(word[0] + \"\".join(middle) + word[len(word)-1])  \n",
        "  return \" \".join(answer)"
      ],
      "metadata": {
        "id": "jJ8Ueu4dRGe2"
      },
      "execution_count": null,
      "outputs": []
    },
    {
      "cell_type": "code",
      "source": [
        "sorting(\"I couldn’t believe that I could actually understand what I was reading : the phenomenal power of the human mind .\")"
      ],
      "metadata": {
        "colab": {
          "base_uri": "https://localhost:8080/",
          "height": 53
        },
        "id": "HXNbWE1VWXgF",
        "outputId": "10b0a73f-72f8-4cd4-c11c-bbc238960e2a"
      },
      "execution_count": null,
      "outputs": [
        {
          "output_type": "execute_result",
          "data": {
            "text/plain": [
              "'I cd’oulnt bevelie that I culod aalctuly uanrnetdsd what I was rineadg : the pnaohneeml pweor of the hmaun mind .'"
            ],
            "application/vnd.google.colaboratory.intrinsic+json": {
              "type": "string"
            }
          },
          "metadata": {},
          "execution_count": 21
        }
      ]
    },
    {
      "cell_type": "code",
      "source": [
        "import random\n",
        "\n",
        "def sorting_1(sequence):\n",
        "  sequence = sequence.split(\" \")\n",
        "  answer = []\n",
        "  for word in sequence:\n",
        "    # len(word)を変数化\n",
        "    if len(word) > 4:\n",
        "      random.seed(0) # 乱数シードを固定\n",
        "      middle = list(word[1:-1])\n",
        "      random.shuffle(middle)\n",
        "      word = word[0] + \"\".join(middle) + word[-1]\n",
        "    answer.append(word)  \n",
        "  return \" \".join(answer)"
      ],
      "metadata": {
        "id": "TbX-2JKfBxNZ"
      },
      "execution_count": null,
      "outputs": []
    },
    {
      "cell_type": "code",
      "source": [
        "sorting_1(\"I couldn’t believe that I could actually understand what I was reading : the phenomenal power of the human mind .\")"
      ],
      "metadata": {
        "colab": {
          "base_uri": "https://localhost:8080/",
          "height": 35
        },
        "id": "XfOvIuFywIzs",
        "outputId": "b53ae8ad-e84a-4ae3-8750-d9569c2b5aa7"
      },
      "execution_count": null,
      "outputs": [
        {
          "output_type": "execute_result",
          "data": {
            "text/plain": [
              "'I cnluo’dt bilevee that I colud alutclay usdtenrnad what I was rdaenig : the pmeenhoanl poewr of the huamn mind .'"
            ],
            "application/vnd.google.colaboratory.intrinsic+json": {
              "type": "string"
            }
          },
          "metadata": {},
          "execution_count": 17
        }
      ]
    }
  ]
}